{
 "cells": [
  {
   "cell_type": "markdown",
   "metadata": {
    "slideshow": {
     "slide_type": "slide"
    }
   },
   "source": [
    "# Invitación a Julia\n",
    "\n",
    "![julialogo](https://raw.githubusercontent.com/docker-library/docs/520519ad7db3ea9fd5d3590e836c839a0ffd6f19/julia/logo.png)\n",
    "\n"
   ]
  },
  {
   "cell_type": "markdown",
   "metadata": {
    "slideshow": {
     "slide_type": "slide"
    }
   },
   "source": [
    "## Un poco de historia\n",
    "\n",
    "Julia es un lenguaje de programación desarrollado en el grupo de Ciencias de la Computación e Inteligencia Artificial del  MIT; lanzado al mundo en el año 2012.\n",
    "\n",
    "Actualmente está en su versión 1.0 (lanzada el 08/08/2018) y se proyecta como el lenguaje ideal para el cómputo científico y numérico.\n",
    "\n",
    "Cuenta 1906 paquetes registrados (librerías)."
   ]
  },
  {
   "cell_type": "markdown",
   "metadata": {
    "slideshow": {
     "slide_type": "slide"
    }
   },
   "source": [
    "Julia apuesta por eliminar la siguiente dicotomía de los lenguajes de programación:\n",
    "\n",
    " <h3 style=\"text-align: center;\" markdown=\"1\"> Tiempo de programación vs Tiempo de compilación/ejecución </h3>\n"
   ]
  },
  {
   "cell_type": "markdown",
   "metadata": {
    "slideshow": {
     "slide_type": "slide"
    }
   },
   "source": [
    "Con las siguientes propiedades desde un punto de vista técnico:\n",
    "\n",
    "* Dinámico\n",
    "* Compilado\n",
    "* Tipos definidos por el usuario y tipos estándar\n",
    "* Rápido\n",
    "* Fácil\n",
    "\n",
    "Además es [código abierto](https://github.com/JuliaLang/julia),  con el espíritu del proyecto [Linux](https://github.com/torvalds/linux)"
   ]
  },
  {
   "cell_type": "markdown",
   "metadata": {
    "slideshow": {
     "slide_type": "slide"
    }
   },
   "source": [
    "### Dinámico"
   ]
  },
  {
   "cell_type": "code",
   "execution_count": 17,
   "metadata": {
    "slideshow": {
     "slide_type": "subslide"
    }
   },
   "outputs": [
    {
     "data": {
      "text/plain": [
       "Float64"
      ]
     },
     "execution_count": 17,
     "metadata": {},
     "output_type": "execute_result"
    }
   ],
   "source": [
    "a = 2.0; typeof(a)"
   ]
  },
  {
   "cell_type": "code",
   "execution_count": 18,
   "metadata": {
    "slideshow": {
     "slide_type": "subslide"
    }
   },
   "outputs": [
    {
     "data": {
      "text/plain": [
       "String"
      ]
     },
     "execution_count": 18,
     "metadata": {},
     "output_type": "execute_result"
    }
   ],
   "source": [
    "a = \"HolaMundo\"; typeof(a)"
   ]
  },
  {
   "cell_type": "markdown",
   "metadata": {
    "slideshow": {
     "slide_type": "slide"
    }
   },
   "source": [
    "## Compilado  (Just in Time compilation)\n",
    "\n",
    "## Compilación en tiempo de ejecución"
   ]
  },
  {
   "cell_type": "code",
   "execution_count": 42,
   "metadata": {
    "slideshow": {
     "slide_type": "subslide"
    }
   },
   "outputs": [
    {
     "data": {
      "text/plain": [
       "g (generic function with 1 method)"
      ]
     },
     "execution_count": 42,
     "metadata": {},
     "output_type": "execute_result"
    }
   ],
   "source": [
    "function g(x)\n",
    "    x+1\n",
    "end"
   ]
  },
  {
   "cell_type": "code",
   "execution_count": 20,
   "metadata": {
    "slideshow": {
     "slide_type": "subslide"
    }
   },
   "outputs": [
    {
     "name": "stdout",
     "output_type": "stream",
     "text": [
      "\n",
      "; Function g\n",
      "; Location: In[19]:1\n",
      "define i64 @julia_g_36758(i64) {\n",
      "top:\n",
      "; Function +; {\n",
      "; Location: int.jl:53\n",
      "  %1 = add i64 %0, 1\n",
      ";}\n",
      "  ret i64 %1\n",
      "}\n"
     ]
    }
   ],
   "source": [
    "code_llvm(g, (Int64,))"
   ]
  },
  {
   "cell_type": "code",
   "execution_count": 21,
   "metadata": {
    "slideshow": {
     "slide_type": "subslide"
    }
   },
   "outputs": [
    {
     "name": "stdout",
     "output_type": "stream",
     "text": [
      "\t.text\n",
      "; Function g {\n",
      "; Location: In[19]:1\n",
      "; Function +; {\n",
      "; Location: In[19]:1\n",
      "\tleaq\t1(%rdi), %rax\n",
      ";}\n",
      "\tretq\n",
      "\tnopw\t%cs:(%rax,%rax)\n",
      ";}\n"
     ]
    }
   ],
   "source": [
    "code_native(g, (Int64,))"
   ]
  },
  {
   "cell_type": "markdown",
   "metadata": {
    "slideshow": {
     "slide_type": "slide"
    }
   },
   "source": [
    "## Tipos"
   ]
  },
  {
   "cell_type": "code",
   "execution_count": 28,
   "metadata": {
    "slideshow": {
     "slide_type": "subslide"
    }
   },
   "outputs": [
    {
     "data": {
      "text/plain": [
       "(Float64, Complex{Int64}, Int64)"
      ]
     },
     "execution_count": 28,
     "metadata": {},
     "output_type": "execute_result"
    }
   ],
   "source": [
    "typeof(2.0), typeof(2 + 1im), typeof(2)"
   ]
  },
  {
   "cell_type": "code",
   "execution_count": 41,
   "metadata": {
    "slideshow": {
     "slide_type": "subslide"
    }
   },
   "outputs": [
    {
     "data": {
      "text/plain": [
       "Particle"
      ]
     },
     "execution_count": 41,
     "metadata": {},
     "output_type": "execute_result"
    }
   ],
   "source": [
    "struct Particle\n",
    "    position\n",
    "    velocity\n",
    "    spin\n",
    "end\n",
    "\n",
    "a = Particle(1.0, 2.0, 1/2) \n",
    "typeof(a)\n"
   ]
  },
  {
   "cell_type": "markdown",
   "metadata": {
    "slideshow": {
     "slide_type": "slide"
    }
   },
   "source": [
    "### Rápido"
   ]
  },
  {
   "cell_type": "markdown",
   "metadata": {
    "slideshow": {
     "slide_type": "subslide"
    }
   },
   "source": [
    "![benchmark](benchmarks.svg)"
   ]
  }
 ],
 "metadata": {
  "celltoolbar": "Slideshow",
  "kernelspec": {
   "display_name": "Julia 1.0.0",
   "language": "julia",
   "name": "julia-1.0"
  },
  "language_info": {
   "file_extension": ".jl",
   "mimetype": "application/julia",
   "name": "julia",
   "version": "1.0.0"
  }
 },
 "nbformat": 4,
 "nbformat_minor": 2
}
